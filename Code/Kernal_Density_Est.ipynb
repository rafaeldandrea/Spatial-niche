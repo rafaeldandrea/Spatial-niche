{
  "nbformat": 4,
  "nbformat_minor": 0,
  "metadata": {
    "colab": {
      "name": "Kernal_Density_Est.ipynb",
      "provenance": []
    },
    "kernelspec": {
      "name": "python3",
      "display_name": "Python 3"
    },
    "language_info": {
      "name": "python"
    }
  },
  "cells": [
    {
      "cell_type": "code",
      "metadata": {
        "colab": {
          "base_uri": "https://localhost:8080/"
        },
        "id": "o-XcxQ3wfgoK",
        "outputId": "ea542c2b-8516-4113-b2ef-2b0d04e90c9a"
      },
      "source": [
        "!pip install pyreadr"
      ],
      "execution_count": 1,
      "outputs": [
        {
          "output_type": "stream",
          "text": [
            "Collecting pyreadr\n",
            "\u001b[?25l  Downloading https://files.pythonhosted.org/packages/f1/90/64545feb97a442f67d1f2d582518044024fa9355df924cdad1ff2374fc54/pyreadr-0.4.2-cp37-cp37m-manylinux_2_17_x86_64.manylinux2014_x86_64.whl (409kB)\n",
            "\r\u001b[K     |▉                               | 10kB 11.4MB/s eta 0:00:01\r\u001b[K     |█▋                              | 20kB 11.9MB/s eta 0:00:01\r\u001b[K     |██▍                             | 30kB 6.3MB/s eta 0:00:01\r\u001b[K     |███▏                            | 40kB 5.7MB/s eta 0:00:01\r\u001b[K     |████                            | 51kB 3.0MB/s eta 0:00:01\r\u001b[K     |████▉                           | 61kB 3.3MB/s eta 0:00:01\r\u001b[K     |█████▋                          | 71kB 3.5MB/s eta 0:00:01\r\u001b[K     |██████▍                         | 81kB 3.8MB/s eta 0:00:01\r\u001b[K     |███████▏                        | 92kB 3.7MB/s eta 0:00:01\r\u001b[K     |████████                        | 102kB 4.1MB/s eta 0:00:01\r\u001b[K     |████████▉                       | 112kB 4.1MB/s eta 0:00:01\r\u001b[K     |█████████▋                      | 122kB 4.1MB/s eta 0:00:01\r\u001b[K     |██████████▍                     | 133kB 4.1MB/s eta 0:00:01\r\u001b[K     |███████████▏                    | 143kB 4.1MB/s eta 0:00:01\r\u001b[K     |████████████                    | 153kB 4.1MB/s eta 0:00:01\r\u001b[K     |████████████▉                   | 163kB 4.1MB/s eta 0:00:01\r\u001b[K     |█████████████▋                  | 174kB 4.1MB/s eta 0:00:01\r\u001b[K     |██████████████▍                 | 184kB 4.1MB/s eta 0:00:01\r\u001b[K     |███████████████▏                | 194kB 4.1MB/s eta 0:00:01\r\u001b[K     |████████████████                | 204kB 4.1MB/s eta 0:00:01\r\u001b[K     |████████████████▉               | 215kB 4.1MB/s eta 0:00:01\r\u001b[K     |█████████████████▋              | 225kB 4.1MB/s eta 0:00:01\r\u001b[K     |██████████████████▍             | 235kB 4.1MB/s eta 0:00:01\r\u001b[K     |███████████████████▏            | 245kB 4.1MB/s eta 0:00:01\r\u001b[K     |████████████████████            | 256kB 4.1MB/s eta 0:00:01\r\u001b[K     |████████████████████▉           | 266kB 4.1MB/s eta 0:00:01\r\u001b[K     |█████████████████████▋          | 276kB 4.1MB/s eta 0:00:01\r\u001b[K     |██████████████████████▍         | 286kB 4.1MB/s eta 0:00:01\r\u001b[K     |███████████████████████▏        | 296kB 4.1MB/s eta 0:00:01\r\u001b[K     |████████████████████████        | 307kB 4.1MB/s eta 0:00:01\r\u001b[K     |████████████████████████▉       | 317kB 4.1MB/s eta 0:00:01\r\u001b[K     |█████████████████████████▋      | 327kB 4.1MB/s eta 0:00:01\r\u001b[K     |██████████████████████████▍     | 337kB 4.1MB/s eta 0:00:01\r\u001b[K     |███████████████████████████▏    | 348kB 4.1MB/s eta 0:00:01\r\u001b[K     |████████████████████████████    | 358kB 4.1MB/s eta 0:00:01\r\u001b[K     |████████████████████████████▉   | 368kB 4.1MB/s eta 0:00:01\r\u001b[K     |█████████████████████████████▋  | 378kB 4.1MB/s eta 0:00:01\r\u001b[K     |██████████████████████████████▍ | 389kB 4.1MB/s eta 0:00:01\r\u001b[K     |███████████████████████████████▏| 399kB 4.1MB/s eta 0:00:01\r\u001b[K     |████████████████████████████████| 409kB 4.1MB/s eta 0:00:01\r\u001b[K     |████████████████████████████████| 419kB 4.1MB/s \n",
            "\u001b[?25hRequirement already satisfied: pandas>0.24.0 in /usr/local/lib/python3.7/dist-packages (from pyreadr) (1.1.5)\n",
            "Requirement already satisfied: numpy>=1.15.4 in /usr/local/lib/python3.7/dist-packages (from pandas>0.24.0->pyreadr) (1.19.5)\n",
            "Requirement already satisfied: python-dateutil>=2.7.3 in /usr/local/lib/python3.7/dist-packages (from pandas>0.24.0->pyreadr) (2.8.1)\n",
            "Requirement already satisfied: pytz>=2017.2 in /usr/local/lib/python3.7/dist-packages (from pandas>0.24.0->pyreadr) (2018.9)\n",
            "Requirement already satisfied: six>=1.5 in /usr/local/lib/python3.7/dist-packages (from python-dateutil>=2.7.3->pandas>0.24.0->pyreadr) (1.15.0)\n",
            "Installing collected packages: pyreadr\n",
            "Successfully installed pyreadr-0.4.2\n"
          ],
          "name": "stdout"
        }
      ]
    },
    {
      "cell_type": "code",
      "metadata": {
        "id": "8JkAgLEde-Mx"
      },
      "source": [
        "import pandas as pd\n",
        "from sklearn.neighbors import KernelDensity\n",
        "import numpy as np\n",
        "import pyreadr\n",
        "import seaborn as sns\n",
        "import matplotlib.pyplot as plt"
      ],
      "execution_count": 2,
      "outputs": []
    },
    {
      "cell_type": "code",
      "metadata": {
        "id": "LlWW_WymfQsB"
      },
      "source": [
        "#define the function for kernal density estimation\n",
        "\n",
        "def kde2D(x, y, bandwidth, xbins=50j, ybins=25j, **kwargs): \n",
        "    \"\"\"Build 2D kernel density estimate (KDE).\"\"\"\n",
        "\n",
        "    # create grid of sample locations (default: 50*25) this is for plotting \n",
        "    xx, yy = np.mgrid[x.min():x.max():xbins, \n",
        "                      y.min():y.max():ybins]\n",
        "\n",
        "    xy_sample = np.vstack([yy.ravel(), xx.ravel()]).T\n",
        "    xy_train  = np.vstack([y, x]).T\n",
        "\n",
        "    kde_skl = KernelDensity(bandwidth=bandwidth, **kwargs)\n",
        "    kde_skl.fit(xy_train)\n",
        "\n",
        "    # score_samples() returns the log-likelihood of the samples\n",
        "    z = np.exp(kde_skl.score_samples(xy_sample))\n",
        "    return xx, yy, np.reshape(z, xx.shape)"
      ],
      "execution_count": 13,
      "outputs": []
    },
    {
      "cell_type": "code",
      "metadata": {
        "id": "clrW9Kmkfqy6"
      },
      "source": [
        "result = pyreadr.read_r('/content/Laplanada_soiltypes.rds') # also works for RData\n",
        "df = result[None]# extract the pandas data frame "
      ],
      "execution_count": 15,
      "outputs": []
    },
    {
      "cell_type": "code",
      "metadata": {
        "colab": {
          "base_uri": "https://localhost:8080/",
          "height": 433
        },
        "id": "qQLxmt4tfyrh",
        "outputId": "fc472c67-4f1f-4ec2-98d0-afc2f0ea59e8"
      },
      "source": [
        "df"
      ],
      "execution_count": 16,
      "outputs": [
        {
          "output_type": "execute_result",
          "data": {
            "text/html": [
              "<div>\n",
              "<style scoped>\n",
              "    .dataframe tbody tr th:only-of-type {\n",
              "        vertical-align: middle;\n",
              "    }\n",
              "\n",
              "    .dataframe tbody tr th {\n",
              "        vertical-align: top;\n",
              "    }\n",
              "\n",
              "    .dataframe thead th {\n",
              "        text-align: right;\n",
              "    }\n",
              "</style>\n",
              "<table border=\"1\" class=\"dataframe\">\n",
              "  <thead>\n",
              "    <tr style=\"text-align: right;\">\n",
              "      <th></th>\n",
              "      <th>sp</th>\n",
              "      <th>gx</th>\n",
              "      <th>gy</th>\n",
              "      <th>soiltype</th>\n",
              "    </tr>\n",
              "  </thead>\n",
              "  <tbody>\n",
              "    <tr>\n",
              "      <th>0</th>\n",
              "      <td>CARAGU</td>\n",
              "      <td>0.85</td>\n",
              "      <td>3.81</td>\n",
              "      <td>NaN</td>\n",
              "    </tr>\n",
              "    <tr>\n",
              "      <th>1</th>\n",
              "      <td>INGARU</td>\n",
              "      <td>8.84</td>\n",
              "      <td>4.67</td>\n",
              "      <td>1.0</td>\n",
              "    </tr>\n",
              "    <tr>\n",
              "      <th>2</th>\n",
              "      <td>HYEROB</td>\n",
              "      <td>5.67</td>\n",
              "      <td>4.79</td>\n",
              "      <td>1.0</td>\n",
              "    </tr>\n",
              "    <tr>\n",
              "      <th>3</th>\n",
              "      <td>OCOTFL</td>\n",
              "      <td>12.92</td>\n",
              "      <td>3.66</td>\n",
              "      <td>1.0</td>\n",
              "    </tr>\n",
              "    <tr>\n",
              "      <th>4</th>\n",
              "      <td>MICOLA</td>\n",
              "      <td>16.29</td>\n",
              "      <td>4.38</td>\n",
              "      <td>2.0</td>\n",
              "    </tr>\n",
              "    <tr>\n",
              "      <th>...</th>\n",
              "      <td>...</td>\n",
              "      <td>...</td>\n",
              "      <td>...</td>\n",
              "      <td>...</td>\n",
              "    </tr>\n",
              "    <tr>\n",
              "      <th>15015</th>\n",
              "      <td>CYATCA</td>\n",
              "      <td>483.49</td>\n",
              "      <td>249.32</td>\n",
              "      <td>1.0</td>\n",
              "    </tr>\n",
              "    <tr>\n",
              "      <th>15016</th>\n",
              "      <td>CYATCA</td>\n",
              "      <td>494.69</td>\n",
              "      <td>359.86</td>\n",
              "      <td>1.0</td>\n",
              "    </tr>\n",
              "    <tr>\n",
              "      <th>15017</th>\n",
              "      <td>CYATCA</td>\n",
              "      <td>498.37</td>\n",
              "      <td>383.38</td>\n",
              "      <td>1.0</td>\n",
              "    </tr>\n",
              "    <tr>\n",
              "      <th>15018</th>\n",
              "      <td>TRIC01</td>\n",
              "      <td>490.96</td>\n",
              "      <td>453.62</td>\n",
              "      <td>1.0</td>\n",
              "    </tr>\n",
              "    <tr>\n",
              "      <th>15019</th>\n",
              "      <td>CLUS01</td>\n",
              "      <td>490.39</td>\n",
              "      <td>474.80</td>\n",
              "      <td>NaN</td>\n",
              "    </tr>\n",
              "  </tbody>\n",
              "</table>\n",
              "<p>15020 rows × 4 columns</p>\n",
              "</div>"
            ],
            "text/plain": [
              "           sp      gx      gy  soiltype\n",
              "0      CARAGU    0.85    3.81       NaN\n",
              "1      INGARU    8.84    4.67       1.0\n",
              "2      HYEROB    5.67    4.79       1.0\n",
              "3      OCOTFL   12.92    3.66       1.0\n",
              "4      MICOLA   16.29    4.38       2.0\n",
              "...       ...     ...     ...       ...\n",
              "15015  CYATCA  483.49  249.32       1.0\n",
              "15016  CYATCA  494.69  359.86       1.0\n",
              "15017  CYATCA  498.37  383.38       1.0\n",
              "15018  TRIC01  490.96  453.62       1.0\n",
              "15019  CLUS01  490.39  474.80       NaN\n",
              "\n",
              "[15020 rows x 4 columns]"
            ]
          },
          "metadata": {
            "tags": []
          },
          "execution_count": 16
        }
      ]
    },
    {
      "cell_type": "code",
      "metadata": {
        "id": "TMCpDv9GJ9-V"
      },
      "source": [
        "def kde_save(df,soiltype):\n",
        "  dt_c = df[df['soiltype']==soiltype]\n",
        "  x, y = dt_c[\"gx\"], dt_c[\"gy\"]\n",
        "  xx, yy, zz = kde2D(x, y, 20.0,xbins=25j, ybins=25j)\n",
        "  plt.pcolormesh(xx, yy, zz)\n",
        "  np.savetxt(\"Lap_soil\"+str(int(soiltype))+\".csv\", zz, delimiter=\",\")\n"
      ],
      "execution_count": 32,
      "outputs": []
    },
    {
      "cell_type": "code",
      "metadata": {
        "id": "Urf1NDi_K6rc"
      },
      "source": [
        ""
      ],
      "execution_count": 29,
      "outputs": []
    },
    {
      "cell_type": "code",
      "metadata": {
        "colab": {
          "base_uri": "https://localhost:8080/",
          "height": 286
        },
        "id": "1qSVjcVtgpLY",
        "outputId": "0ce8a4d5-cc26-4125-b0b9-e6c01e782598"
      },
      "source": [
        "kde_save(df,1.0)"
      ],
      "execution_count": 33,
      "outputs": [
        {
          "output_type": "display_data",
          "data": {
            "image/png": "[encoded data removed]",
            "text/plain": [
              "<Figure size 432x288 with 1 Axes>"
            ]
          },
          "metadata": {
            "tags": [],
            "needs_background": "light"
          }
        }
      ]
    },
    {
      "cell_type": "code",
      "metadata": {
        "colab": {
          "base_uri": "https://localhost:8080/",
          "height": 286
        },
        "id": "5xJ6lG92guXR",
        "outputId": "fad3de3a-e8c6-45f5-99ed-781ef32c22df"
      },
      "source": [
        "kde_save(df,2.0)"
      ],
      "execution_count": 36,
      "outputs": [
        {
          "output_type": "display_data",
          "data": {
            "image/png": "[encoded data removed]",
            "text/plain": [
              "<Figure size 432x288 with 1 Axes>"
            ]
          },
          "metadata": {
            "tags": [],
            "needs_background": "light"
          }
        }
      ]
    },
    {
      "cell_type": "code",
      "metadata": {
        "id": "cyTO6kxChPZ_"
      },
      "source": [
        ""
      ],
      "execution_count": null,
      "outputs": []
    }
  ]
}